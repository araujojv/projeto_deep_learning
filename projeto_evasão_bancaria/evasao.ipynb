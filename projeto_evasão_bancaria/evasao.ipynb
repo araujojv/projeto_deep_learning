{
  "cells": [
    {
      "cell_type": "markdown",
      "metadata": {
        "id": "Mob_AWXcsVQV"
      },
      "source": [
        "# **DESAFIO 01 - EVASÃO BANCÁRIA (CHURN)**\n",
        "\n",
        "Vamos usar [este conjunto de dados](https://github.com/cassiusf/datasets/raw/refs/heads/main/desafios/Churn_Dataset.csv) para tentar prever evasão de clientes no setor bancário.\n",
        "\n",
        "Este conjunto de dados contém informações sobre clientes bancários que deixaram o banco ou continuam sendo seus clientes. O conjunto de dados inclui as seguintes variáveis:\n",
        "\n",
        "- **Customer ID**: identificador único para cada cliente\n",
        "- **Surname**: sobrenome do cliente\n",
        "- **Credit Score**: valor numérico representando o score de crédito do cliente, ou seja, uma classificação interna do quão bom pagador ele é\n",
        "- **Geography**: país onde o cliente reside (França, Espanha ou Alemanha)\n",
        "- **Gender**: gênero do cliente (masculino ou feminino)\n",
        "- **Age**: idade do cliente.\n",
        "- **Tenure**: número de anos que o cliente está no banco.\n",
        "- **Balance**: saldo da conta do cliente.\n",
        "- **NumOfProducts**: número de produtos bancários utilizados pelo cliente (por exemplo, conta poupança, cartão de crédito).\n",
        "- **HasCrCard**: se o cliente tem um cartão de crédito (1 = sim, 0 = não).\n",
        "- **IsActiveMember**: se o cliente é um membro ativo (1 = sim, 0 = não).\n",
        "- **EstimatedSalary**: renda estimada do cliente.\n",
        "- **Exited**: evasão do cliente (1 = sim, 0 = não) ***(Variável alvo)***.\n"
      ]
    },
    {
      "cell_type": "markdown",
      "metadata": {
        "id": "_fbNBB4CwBnz"
      },
      "source": [
        "## **TAREFA**\n",
        "\n",
        "Seu objetivo é utilizar um modelo de machine learning rasa para prever a possibilidade de um cliente cancelar sua conta no banco.\n",
        "\n",
        "Você deverá fazer todas es etapas necessárias tanto na avaliação dos dados disponíveis quanto na preparação necessária para execução do modelo escolhido.\n",
        "\n",
        "Todas as etapas devem ser documentadas e as escolhas justificadas.\n",
        "\n",
        "A performance do seu modelo deverá ser avaliada pelas métricas Acurácia, Precision, Recall e F1-Score. Inclua em sua avaliação final de performance Curvas, ROC e/ou Precision-Recall, de acordo com a necessidade."
      ]
    },
    {
      "cell_type": "code",
      "execution_count": 35,
      "metadata": {
        "colab": {
          "base_uri": "https://localhost:8080/"
        },
        "id": "_BYQ60ftMlIH",
        "outputId": "21de908c-92f8-4c80-c3de-6b27f39c3cce"
      },
      "outputs": [
        {
          "name": "stderr",
          "output_type": "stream",
          "text": [
            "/tmp/ipykernel_1419/1931712287.py:5: FutureWarning: use_inf_as_na option is deprecated and will be removed in a future version. Convert inf values to NaN before operating instead.\n",
            "  pd.reset_option('all')\n"
          ]
        }
      ],
      "source": [
        "import pandas as pd\n",
        "import matplotlib.pyplot as plt\n",
        "# Importa o conjunto de dados\n",
        "df = pd.read_csv(\"https://raw.githubusercontent.com/cassiusf/datasets/refs/heads/main/desafios/Churn_Dataset.csv\")\n",
        "pd.reset_option('all')\n",
        "\n",
        "\n"
      ]
    },
    {
      "cell_type": "code",
      "execution_count": 36,
      "metadata": {
        "colab": {
          "base_uri": "https://localhost:8080/",
          "height": 423
        },
        "id": "LtxQwIIFMuvv",
        "outputId": "ef783728-44c9-4c5e-dd63-a1893e3d47a8"
      },
      "outputs": [
        {
          "data": {
            "text/html": [
              "<div>\n",
              "<style scoped>\n",
              "    .dataframe tbody tr th:only-of-type {\n",
              "        vertical-align: middle;\n",
              "    }\n",
              "\n",
              "    .dataframe tbody tr th {\n",
              "        vertical-align: top;\n",
              "    }\n",
              "\n",
              "    .dataframe thead th {\n",
              "        text-align: right;\n",
              "    }\n",
              "</style>\n",
              "<table border=\"1\" class=\"dataframe\">\n",
              "  <thead>\n",
              "    <tr style=\"text-align: right;\">\n",
              "      <th></th>\n",
              "      <th>RowNumber</th>\n",
              "      <th>CustomerId</th>\n",
              "      <th>Surname</th>\n",
              "      <th>CreditScore</th>\n",
              "      <th>Geography</th>\n",
              "      <th>Gender</th>\n",
              "      <th>Age</th>\n",
              "      <th>Tenure</th>\n",
              "      <th>Balance</th>\n",
              "      <th>NumOfProducts</th>\n",
              "      <th>HasCrCard</th>\n",
              "      <th>IsActiveMember</th>\n",
              "      <th>EstimatedSalary</th>\n",
              "      <th>Exited</th>\n",
              "    </tr>\n",
              "  </thead>\n",
              "  <tbody>\n",
              "    <tr>\n",
              "      <th>0</th>\n",
              "      <td>1</td>\n",
              "      <td>15634602</td>\n",
              "      <td>Hargrave</td>\n",
              "      <td>619</td>\n",
              "      <td>France</td>\n",
              "      <td>Female</td>\n",
              "      <td>42.0</td>\n",
              "      <td>2</td>\n",
              "      <td>0.00</td>\n",
              "      <td>1</td>\n",
              "      <td>1.0</td>\n",
              "      <td>1.0</td>\n",
              "      <td>101348.88</td>\n",
              "      <td>1</td>\n",
              "    </tr>\n",
              "    <tr>\n",
              "      <th>1</th>\n",
              "      <td>2</td>\n",
              "      <td>15647311</td>\n",
              "      <td>Hill</td>\n",
              "      <td>608</td>\n",
              "      <td>Spain</td>\n",
              "      <td>Female</td>\n",
              "      <td>41.0</td>\n",
              "      <td>1</td>\n",
              "      <td>83807.86</td>\n",
              "      <td>1</td>\n",
              "      <td>0.0</td>\n",
              "      <td>1.0</td>\n",
              "      <td>112542.58</td>\n",
              "      <td>0</td>\n",
              "    </tr>\n",
              "    <tr>\n",
              "      <th>2</th>\n",
              "      <td>3</td>\n",
              "      <td>15619304</td>\n",
              "      <td>Onio</td>\n",
              "      <td>502</td>\n",
              "      <td>France</td>\n",
              "      <td>Female</td>\n",
              "      <td>42.0</td>\n",
              "      <td>8</td>\n",
              "      <td>159660.80</td>\n",
              "      <td>3</td>\n",
              "      <td>1.0</td>\n",
              "      <td>0.0</td>\n",
              "      <td>113931.57</td>\n",
              "      <td>1</td>\n",
              "    </tr>\n",
              "    <tr>\n",
              "      <th>3</th>\n",
              "      <td>4</td>\n",
              "      <td>15701354</td>\n",
              "      <td>Boni</td>\n",
              "      <td>699</td>\n",
              "      <td>France</td>\n",
              "      <td>Female</td>\n",
              "      <td>39.0</td>\n",
              "      <td>1</td>\n",
              "      <td>0.00</td>\n",
              "      <td>2</td>\n",
              "      <td>0.0</td>\n",
              "      <td>0.0</td>\n",
              "      <td>93826.63</td>\n",
              "      <td>0</td>\n",
              "    </tr>\n",
              "    <tr>\n",
              "      <th>4</th>\n",
              "      <td>5</td>\n",
              "      <td>15737888</td>\n",
              "      <td>Mitchell</td>\n",
              "      <td>850</td>\n",
              "      <td>Spain</td>\n",
              "      <td>Female</td>\n",
              "      <td>43.0</td>\n",
              "      <td>2</td>\n",
              "      <td>125510.82</td>\n",
              "      <td>1</td>\n",
              "      <td>NaN</td>\n",
              "      <td>1.0</td>\n",
              "      <td>79084.10</td>\n",
              "      <td>0</td>\n",
              "    </tr>\n",
              "    <tr>\n",
              "      <th>...</th>\n",
              "      <td>...</td>\n",
              "      <td>...</td>\n",
              "      <td>...</td>\n",
              "      <td>...</td>\n",
              "      <td>...</td>\n",
              "      <td>...</td>\n",
              "      <td>...</td>\n",
              "      <td>...</td>\n",
              "      <td>...</td>\n",
              "      <td>...</td>\n",
              "      <td>...</td>\n",
              "      <td>...</td>\n",
              "      <td>...</td>\n",
              "      <td>...</td>\n",
              "    </tr>\n",
              "    <tr>\n",
              "      <th>9997</th>\n",
              "      <td>9998</td>\n",
              "      <td>15584532</td>\n",
              "      <td>Liu</td>\n",
              "      <td>709</td>\n",
              "      <td>France</td>\n",
              "      <td>Female</td>\n",
              "      <td>36.0</td>\n",
              "      <td>7</td>\n",
              "      <td>0.00</td>\n",
              "      <td>1</td>\n",
              "      <td>0.0</td>\n",
              "      <td>1.0</td>\n",
              "      <td>42085.58</td>\n",
              "      <td>1</td>\n",
              "    </tr>\n",
              "    <tr>\n",
              "      <th>9998</th>\n",
              "      <td>9999</td>\n",
              "      <td>15682355</td>\n",
              "      <td>Sabbatini</td>\n",
              "      <td>772</td>\n",
              "      <td>Germany</td>\n",
              "      <td>Male</td>\n",
              "      <td>42.0</td>\n",
              "      <td>3</td>\n",
              "      <td>75075.31</td>\n",
              "      <td>2</td>\n",
              "      <td>1.0</td>\n",
              "      <td>0.0</td>\n",
              "      <td>92888.52</td>\n",
              "      <td>1</td>\n",
              "    </tr>\n",
              "    <tr>\n",
              "      <th>9999</th>\n",
              "      <td>9999</td>\n",
              "      <td>15682355</td>\n",
              "      <td>Sabbatini</td>\n",
              "      <td>772</td>\n",
              "      <td>Germany</td>\n",
              "      <td>Male</td>\n",
              "      <td>42.0</td>\n",
              "      <td>3</td>\n",
              "      <td>75075.31</td>\n",
              "      <td>2</td>\n",
              "      <td>1.0</td>\n",
              "      <td>0.0</td>\n",
              "      <td>92888.52</td>\n",
              "      <td>1</td>\n",
              "    </tr>\n",
              "    <tr>\n",
              "      <th>10000</th>\n",
              "      <td>10000</td>\n",
              "      <td>15628319</td>\n",
              "      <td>Walker</td>\n",
              "      <td>792</td>\n",
              "      <td>France</td>\n",
              "      <td>Female</td>\n",
              "      <td>28.0</td>\n",
              "      <td>4</td>\n",
              "      <td>130142.79</td>\n",
              "      <td>1</td>\n",
              "      <td>1.0</td>\n",
              "      <td>0.0</td>\n",
              "      <td>38190.78</td>\n",
              "      <td>0</td>\n",
              "    </tr>\n",
              "    <tr>\n",
              "      <th>10001</th>\n",
              "      <td>10000</td>\n",
              "      <td>15628319</td>\n",
              "      <td>Walker</td>\n",
              "      <td>792</td>\n",
              "      <td>France</td>\n",
              "      <td>Female</td>\n",
              "      <td>28.0</td>\n",
              "      <td>4</td>\n",
              "      <td>130142.79</td>\n",
              "      <td>1</td>\n",
              "      <td>1.0</td>\n",
              "      <td>0.0</td>\n",
              "      <td>38190.78</td>\n",
              "      <td>0</td>\n",
              "    </tr>\n",
              "  </tbody>\n",
              "</table>\n",
              "<p>10002 rows × 14 columns</p>\n",
              "</div>"
            ],
            "text/plain": [
              "       RowNumber  CustomerId    Surname  CreditScore Geography  Gender   Age  \\\n",
              "0              1    15634602   Hargrave          619    France  Female  42.0   \n",
              "1              2    15647311       Hill          608     Spain  Female  41.0   \n",
              "2              3    15619304       Onio          502    France  Female  42.0   \n",
              "3              4    15701354       Boni          699    France  Female  39.0   \n",
              "4              5    15737888   Mitchell          850     Spain  Female  43.0   \n",
              "...          ...         ...        ...          ...       ...     ...   ...   \n",
              "9997        9998    15584532        Liu          709    France  Female  36.0   \n",
              "9998        9999    15682355  Sabbatini          772   Germany    Male  42.0   \n",
              "9999        9999    15682355  Sabbatini          772   Germany    Male  42.0   \n",
              "10000      10000    15628319     Walker          792    France  Female  28.0   \n",
              "10001      10000    15628319     Walker          792    France  Female  28.0   \n",
              "\n",
              "       Tenure    Balance  NumOfProducts  HasCrCard  IsActiveMember  \\\n",
              "0           2       0.00              1        1.0             1.0   \n",
              "1           1   83807.86              1        0.0             1.0   \n",
              "2           8  159660.80              3        1.0             0.0   \n",
              "3           1       0.00              2        0.0             0.0   \n",
              "4           2  125510.82              1        NaN             1.0   \n",
              "...       ...        ...            ...        ...             ...   \n",
              "9997        7       0.00              1        0.0             1.0   \n",
              "9998        3   75075.31              2        1.0             0.0   \n",
              "9999        3   75075.31              2        1.0             0.0   \n",
              "10000       4  130142.79              1        1.0             0.0   \n",
              "10001       4  130142.79              1        1.0             0.0   \n",
              "\n",
              "       EstimatedSalary  Exited  \n",
              "0            101348.88       1  \n",
              "1            112542.58       0  \n",
              "2            113931.57       1  \n",
              "3             93826.63       0  \n",
              "4             79084.10       0  \n",
              "...                ...     ...  \n",
              "9997          42085.58       1  \n",
              "9998          92888.52       1  \n",
              "9999          92888.52       1  \n",
              "10000         38190.78       0  \n",
              "10001         38190.78       0  \n",
              "\n",
              "[10002 rows x 14 columns]"
            ]
          },
          "execution_count": 36,
          "metadata": {},
          "output_type": "execute_result"
        }
      ],
      "source": [
        "pd.set_option('display.max_columns', None)\n",
        "df"
      ]
    },
    {
      "cell_type": "code",
      "execution_count": 37,
      "metadata": {
        "colab": {
          "base_uri": "https://localhost:8080/",
          "height": 523
        },
        "id": "T-Dovb34Nabf",
        "outputId": "c4920b77-da12-4b18-e3ec-be96576b25bb"
      },
      "outputs": [
        {
          "data": {
            "text/plain": [
              "RowNumber          0\n",
              "CustomerId         0\n",
              "Surname            0\n",
              "CreditScore        0\n",
              "Geography          1\n",
              "Gender             0\n",
              "Age                1\n",
              "Tenure             0\n",
              "Balance            0\n",
              "NumOfProducts      0\n",
              "HasCrCard          1\n",
              "IsActiveMember     1\n",
              "EstimatedSalary    0\n",
              "Exited             0\n",
              "dtype: int64"
            ]
          },
          "execution_count": 37,
          "metadata": {},
          "output_type": "execute_result"
        }
      ],
      "source": [
        "##verifiquei quantos nulos exitem\n",
        "\n",
        "df.isna().sum()\n",
        "\n"
      ]
    },
    {
      "cell_type": "code",
      "execution_count": 38,
      "metadata": {
        "id": "raSTdoFwSGSn"
      },
      "outputs": [],
      "source": [
        "##decide excluir os nulos\n",
        "\n",
        "df= df.dropna()\n",
        "\n",
        "\n"
      ]
    },
    {
      "cell_type": "code",
      "execution_count": 39,
      "metadata": {
        "colab": {
          "base_uri": "https://localhost:8080/",
          "height": 423
        },
        "id": "bFUJZzk-SZv3",
        "outputId": "59c84979-0c45-416c-e737-6b9209b753c4"
      },
      "outputs": [
        {
          "name": "stderr",
          "output_type": "stream",
          "text": [
            "/tmp/ipykernel_1419/749451744.py:5: SettingWithCopyWarning: \n",
            "A value is trying to be set on a copy of a slice from a DataFrame\n",
            "\n",
            "See the caveats in the documentation: https://pandas.pydata.org/pandas-docs/stable/user_guide/indexing.html#returning-a-view-versus-a-copy\n",
            "  df.drop(columns=['CustomerId', 'Surname'], inplace=True)\n"
          ]
        }
      ],
      "source": [
        "##removendo colunas irrelevantes \n",
        "\n",
        "from sklearn.preprocessing import OneHotEncoder, StandardScaler\n",
        "\n",
        "df.drop(columns=['CustomerId', 'Surname'], inplace=True)"
      ]
    },
    {
      "cell_type": "code",
      "execution_count": 40,
      "metadata": {},
      "outputs": [],
      "source": [
        "##codificando variveis categoricas \n",
        "df = pd.get_dummies(df,columns=[\"Geography\",\"Gender\"], drop_first=True)\n"
      ]
    },
    {
      "cell_type": "code",
      "execution_count": 41,
      "metadata": {},
      "outputs": [],
      "source": [
        "##normalização variaveis numericas \n",
        "scaler = StandardScaler()\n",
        "num_cols = ['CreditScore', 'Age', 'Balance', 'EstimatedSalary']\n",
        "df[num_cols] = scaler.fit_transform(df[num_cols])"
      ]
    },
    {
      "cell_type": "code",
      "execution_count": 42,
      "metadata": {
        "colab": {
          "base_uri": "https://localhost:8080/",
          "height": 423
        },
        "id": "ufPQCEtHTcrg",
        "outputId": "ae62c317-3e8a-4005-e797-88a43e0b0ee8"
      },
      "outputs": [
        {
          "data": {
            "text/html": [
              "<div>\n",
              "<style scoped>\n",
              "    .dataframe tbody tr th:only-of-type {\n",
              "        vertical-align: middle;\n",
              "    }\n",
              "\n",
              "    .dataframe tbody tr th {\n",
              "        vertical-align: top;\n",
              "    }\n",
              "\n",
              "    .dataframe thead th {\n",
              "        text-align: right;\n",
              "    }\n",
              "</style>\n",
              "<table border=\"1\" class=\"dataframe\">\n",
              "  <thead>\n",
              "    <tr style=\"text-align: right;\">\n",
              "      <th></th>\n",
              "      <th>CreditScore</th>\n",
              "      <th>Age</th>\n",
              "      <th>Tenure</th>\n",
              "      <th>Balance</th>\n",
              "      <th>NumOfProducts</th>\n",
              "      <th>EstimatedSalary</th>\n",
              "    </tr>\n",
              "  </thead>\n",
              "  <tbody>\n",
              "    <tr>\n",
              "      <th>0</th>\n",
              "      <td>-0.326298</td>\n",
              "      <td>0.293657</td>\n",
              "      <td>2</td>\n",
              "      <td>-1.225860</td>\n",
              "      <td>1</td>\n",
              "      <td>0.021720</td>\n",
              "    </tr>\n",
              "    <tr>\n",
              "      <th>1</th>\n",
              "      <td>-0.440137</td>\n",
              "      <td>0.198305</td>\n",
              "      <td>1</td>\n",
              "      <td>0.117428</td>\n",
              "      <td>1</td>\n",
              "      <td>0.216366</td>\n",
              "    </tr>\n",
              "    <tr>\n",
              "      <th>2</th>\n",
              "      <td>-1.537125</td>\n",
              "      <td>0.293657</td>\n",
              "      <td>8</td>\n",
              "      <td>1.333214</td>\n",
              "      <td>3</td>\n",
              "      <td>0.240519</td>\n",
              "    </tr>\n",
              "    <tr>\n",
              "      <th>3</th>\n",
              "      <td>0.501618</td>\n",
              "      <td>0.007601</td>\n",
              "      <td>1</td>\n",
              "      <td>-1.225860</td>\n",
              "      <td>2</td>\n",
              "      <td>-0.109083</td>\n",
              "    </tr>\n",
              "    <tr>\n",
              "      <th>5</th>\n",
              "      <td>-0.057226</td>\n",
              "      <td>0.484361</td>\n",
              "      <td>8</td>\n",
              "      <td>0.597439</td>\n",
              "      <td>2</td>\n",
              "      <td>0.863478</td>\n",
              "    </tr>\n",
              "    <tr>\n",
              "      <th>...</th>\n",
              "      <td>...</td>\n",
              "      <td>...</td>\n",
              "      <td>...</td>\n",
              "      <td>...</td>\n",
              "      <td>...</td>\n",
              "      <td>...</td>\n",
              "    </tr>\n",
              "    <tr>\n",
              "      <th>9997</th>\n",
              "      <td>0.605107</td>\n",
              "      <td>-0.278455</td>\n",
              "      <td>7</td>\n",
              "      <td>-1.225860</td>\n",
              "      <td>1</td>\n",
              "      <td>-1.008801</td>\n",
              "    </tr>\n",
              "    <tr>\n",
              "      <th>9998</th>\n",
              "      <td>1.257091</td>\n",
              "      <td>0.293657</td>\n",
              "      <td>3</td>\n",
              "      <td>-0.022539</td>\n",
              "      <td>2</td>\n",
              "      <td>-0.125396</td>\n",
              "    </tr>\n",
              "    <tr>\n",
              "      <th>9999</th>\n",
              "      <td>1.257091</td>\n",
              "      <td>0.293657</td>\n",
              "      <td>3</td>\n",
              "      <td>-0.022539</td>\n",
              "      <td>2</td>\n",
              "      <td>-0.125396</td>\n",
              "    </tr>\n",
              "    <tr>\n",
              "      <th>10000</th>\n",
              "      <td>1.464070</td>\n",
              "      <td>-1.041271</td>\n",
              "      <td>4</td>\n",
              "      <td>0.860094</td>\n",
              "      <td>1</td>\n",
              "      <td>-1.076527</td>\n",
              "    </tr>\n",
              "    <tr>\n",
              "      <th>10001</th>\n",
              "      <td>1.464070</td>\n",
              "      <td>-1.041271</td>\n",
              "      <td>4</td>\n",
              "      <td>0.860094</td>\n",
              "      <td>1</td>\n",
              "      <td>-1.076527</td>\n",
              "    </tr>\n",
              "  </tbody>\n",
              "</table>\n",
              "<p>9998 rows × 6 columns</p>\n",
              "</div>"
            ],
            "text/plain": [
              "       CreditScore       Age  Tenure   Balance  NumOfProducts  EstimatedSalary\n",
              "0        -0.326298  0.293657       2 -1.225860              1         0.021720\n",
              "1        -0.440137  0.198305       1  0.117428              1         0.216366\n",
              "2        -1.537125  0.293657       8  1.333214              3         0.240519\n",
              "3         0.501618  0.007601       1 -1.225860              2        -0.109083\n",
              "5        -0.057226  0.484361       8  0.597439              2         0.863478\n",
              "...            ...       ...     ...       ...            ...              ...\n",
              "9997      0.605107 -0.278455       7 -1.225860              1        -1.008801\n",
              "9998      1.257091  0.293657       3 -0.022539              2        -0.125396\n",
              "9999      1.257091  0.293657       3 -0.022539              2        -0.125396\n",
              "10000     1.464070 -1.041271       4  0.860094              1        -1.076527\n",
              "10001     1.464070 -1.041271       4  0.860094              1        -1.076527\n",
              "\n",
              "[9998 rows x 6 columns]"
            ]
          },
          "execution_count": 42,
          "metadata": {},
          "output_type": "execute_result"
        }
      ],
      "source": [
        "##criei uma tabela so de number para verificar  outlier\n",
        "df_numerico = df.select_dtypes(include=['int64', 'float64'])\n",
        "df_numerico = df_numerico.drop(columns=(['Exited',\"IsActiveMember\",\"HasCrCard\",\"RowNumber\",]))\n",
        "df_numerico\n",
        "\n"
      ]
    },
    {
      "cell_type": "code",
      "execution_count": 43,
      "metadata": {
        "colab": {
          "base_uri": "https://localhost:8080/",
          "height": 1000
        },
        "id": "a7UG2IGpZ60g",
        "outputId": "ea04585c-2f4a-4f7c-d8d6-d4dc4972e3ba"
      },
      "outputs": [
        {
          "data": {
            "image/png": "[encoded data removed]",
            "text/plain": [
              "<Figure size 500x300 with 1 Axes>"
            ]
          },
          "metadata": {},
          "output_type": "display_data"
        },
        {
          "data": {
            "image/png": "[encoded data removed]",
            "text/plain": [
              "<Figure size 500x300 with 1 Axes>"
            ]
          },
          "metadata": {},
          "output_type": "display_data"
        },
        {
          "data": {
            "image/png": "[encoded data removed]",
            "text/plain": [
              "<Figure size 500x300 with 1 Axes>"
            ]
          },
          "metadata": {},
          "output_type": "display_data"
        },
        {
          "data": {
            "image/png": "[encoded data removed]",
            "text/plain": [
              "<Figure size 500x300 with 1 Axes>"
            ]
          },
          "metadata": {},
          "output_type": "display_data"
        },
        {
          "data": {
            "image/png": "[encoded data removed]",
            "text/plain": [
              "<Figure size 500x300 with 1 Axes>"
            ]
          },
          "metadata": {},
          "output_type": "display_data"
        },
        {
          "data": {
            "image/png": "[encoded data removed]",
            "text/plain": [
              "<Figure size 500x300 with 1 Axes>"
            ]
          },
          "metadata": {},
          "output_type": "display_data"
        }
      ],
      "source": [
        "##fazendo boxplot para verificar os outlier de cada coluna\n",
        "for coluna in df_numerico.columns:\n",
        "    plt.figure(figsize=(5, 3))\n",
        "    plt.boxplot(df_numerico[coluna])\n",
        "    plt.title(f'Boxplot de {coluna}')\n",
        "    plt.ylabel('Valores')\n",
        "    plt.show()\n",
        "    "
      ]
    },
    {
      "cell_type": "code",
      "execution_count": 44,
      "metadata": {
        "id": "QZLiVfA0hhtx"
      },
      "outputs": [],
      "source": [
        "##sepração de treino e teste \n",
        "\n",
        "from sklearn.model_selection import train_test_split\n",
        "##tirando variavel alvo\n",
        "y = df[\"Exited\"]\n",
        "X = df.drop(columns=[\"Exited\"])\n",
        "\n",
        "#separando teste e treino \n",
        "\n",
        "X_train , X_test, y_train, y_test =  train_test_split(X,y,test_size=0.3)\n"
      ]
    },
    {
      "cell_type": "code",
      "execution_count": 45,
      "metadata": {},
      "outputs": [],
      "source": [
        "from imblearn.over_sampling import SMOTE\n",
        "\n",
        "##aplicando smote apenas nos dados de treino para \n",
        "\n",
        "smote = SMOTE(sampling_strategy=0.5)\n",
        "\n",
        "X_train_resampled, y_train_resampled = smote.fit_resample(X_train,y_train)\n"
      ]
    },
    {
      "cell_type": "code",
      "execution_count": 46,
      "metadata": {},
      "outputs": [
        {
          "name": "stdout",
          "output_type": "stream",
          "text": [
            "Distribuição após SMOTE:\n",
            " Exited\n",
            "0    5562\n",
            "1    2781\n",
            "Name: count, dtype: int64\n"
          ]
        }
      ],
      "source": [
        "print(\"Distribuição após SMOTE:\\n\", y_train_resampled.value_counts())\n"
      ]
    },
    {
      "cell_type": "code",
      "execution_count": 47,
      "metadata": {},
      "outputs": [],
      "source": [
        "from sklearn.ensemble import RandomForestClassifier\n",
        "#rodando modelo random forest \n",
        "\n",
        "modelo = RandomForestClassifier()\n",
        "modelo.fit(X_train_resampled, y_train_resampled)\n",
        "\n",
        "#fazendo predicao \n",
        "\n",
        "y_pred = modelo.predict(X_test)"
      ]
    },
    {
      "cell_type": "code",
      "execution_count": 48,
      "metadata": {},
      "outputs": [
        {
          "name": "stdout",
          "output_type": "stream",
          "text": [
            "Primeiras previsões: [0 0 0 0 1 0 0 1 0 0]\n",
            "Valores reais: [0 0 0 0 1 0 0 1 0 0]\n"
          ]
        }
      ],
      "source": [
        "##verificando primeiras predicoes \n",
        "print(\"Primeiras previsões:\", y_pred[:10])\n",
        "print(\"Valores reais:\", y_test[:10].values)  \n"
      ]
    },
    {
      "cell_type": "code",
      "execution_count": 49,
      "metadata": {},
      "outputs": [
        {
          "data": {
            "image/png": "[encoded data removed]",
            "text/plain": [
              "<Figure size 500x400 with 2 Axes>"
            ]
          },
          "metadata": {},
          "output_type": "display_data"
        }
      ],
      "source": [
        "from sklearn.metrics import confusion_matrix\n",
        "import seaborn as sns\n",
        "import matplotlib.pyplot as plt\n",
        "\n",
        "# Criar a matriz de confusão\n",
        "cm = confusion_matrix(y_test, y_pred)\n",
        "\n",
        "# grafico para visualizar matriz de confusao \n",
        "plt.figure(figsize=(5,4))\n",
        "sns.heatmap(cm, annot=True, fmt=\"d\", cmap=\"Blues\")\n",
        "plt.xlabel(\"Predito\")\n",
        "plt.ylabel(\"Real\")\n",
        "plt.title(\"matriz de confusao\")\n",
        "plt.show()"
      ]
    },
    {
      "cell_type": "code",
      "execution_count": 50,
      "metadata": {},
      "outputs": [
        {
          "name": "stdout",
          "output_type": "stream",
          "text": [
            "              precision    recall  f1-score   support\n",
            "\n",
            "           0       0.88      0.95      0.91      2398\n",
            "           1       0.70      0.50      0.58       602\n",
            "\n",
            "    accuracy                           0.86      3000\n",
            "   macro avg       0.79      0.72      0.75      3000\n",
            "weighted avg       0.85      0.86      0.85      3000\n",
            "\n"
          ]
        }
      ],
      "source": [
        "##avaliando metricas \n",
        "from sklearn.metrics import classification_report\n",
        "\n",
        "print(classification_report(y_test, y_pred))"
      ]
    }
  ],
  "metadata": {
    "colab": {
      "provenance": []
    },
    "kernelspec": {
      "display_name": "Python 3",
      "name": "python3"
    },
    "language_info": {
      "codemirror_mode": {
        "name": "ipython",
        "version": 3
      },
      "file_extension": ".py",
      "mimetype": "text/x-python",
      "name": "python",
      "nbconvert_exporter": "python",
      "pygments_lexer": "ipython3",
      "version": "3.10.12"
    }
  },
  "nbformat": 4,
  "nbformat_minor": 0
}
