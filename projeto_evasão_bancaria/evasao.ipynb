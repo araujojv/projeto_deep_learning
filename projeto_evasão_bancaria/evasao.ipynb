{
  "cells": [
    {
      "cell_type": "markdown",
      "metadata": {
        "id": "Mob_AWXcsVQV"
      },
      "source": [
        "# **DESAFIO 01 - EVASÃO BANCÁRIA (CHURN)**\n",
        "\n",
        "Vamos usar [este conjunto de dados](https://github.com/cassiusf/datasets/raw/refs/heads/main/desafios/Churn_Dataset.csv) para tentar prever evasão de clientes no setor bancário.\n",
        "\n",
        "Este conjunto de dados contém informações sobre clientes bancários que deixaram o banco ou continuam sendo seus clientes. O conjunto de dados inclui as seguintes variáveis:\n",
        "\n",
        "- **Customer ID**: identificador único para cada cliente\n",
        "- **Surname**: sobrenome do cliente\n",
        "- **Credit Score**: valor numérico representando o score de crédito do cliente, ou seja, uma classificação interna do quão bom pagador ele é\n",
        "- **Geography**: país onde o cliente reside (França, Espanha ou Alemanha)\n",
        "- **Gender**: gênero do cliente (masculino ou feminino)\n",
        "- **Age**: idade do cliente.\n",
        "- **Tenure**: número de anos que o cliente está no banco.\n",
        "- **Balance**: saldo da conta do cliente.\n",
        "- **NumOfProducts**: número de produtos bancários utilizados pelo cliente (por exemplo, conta poupança, cartão de crédito).\n",
        "- **HasCrCard**: se o cliente tem um cartão de crédito (1 = sim, 0 = não).\n",
        "- **IsActiveMember**: se o cliente é um membro ativo (1 = sim, 0 = não).\n",
        "- **EstimatedSalary**: renda estimada do cliente.\n",
        "- **Exited**: evasão do cliente (1 = sim, 0 = não) ***(Variável alvo)***.\n"
      ]
    },
    {
      "cell_type": "markdown",
      "metadata": {
        "id": "_fbNBB4CwBnz"
      },
      "source": [
        "## **TAREFA**\n",
        "\n",
        "Seu objetivo é utilizar um modelo de machine learning rasa para prever a possibilidade de um cliente cancelar sua conta no banco.\n",
        "\n",
        "Você deverá fazer todas es etapas necessárias tanto na avaliação dos dados disponíveis quanto na preparação necessária para execução do modelo escolhido.\n",
        "\n",
        "Todas as etapas devem ser documentadas e as escolhas justificadas.\n",
        "\n",
        "A performance do seu modelo deverá ser avaliada pelas métricas Acurácia, Precision, Recall e F1-Score. Inclua em sua avaliação final de performance Curvas, ROC e/ou Precision-Recall, de acordo com a necessidade."
      ]
    },
    {
      "cell_type": "code",
      "execution_count": null,
      "metadata": {
        "colab": {
          "base_uri": "https://localhost:8080/"
        },
        "id": "_BYQ60ftMlIH",
        "outputId": "21de908c-92f8-4c80-c3de-6b27f39c3cce"
      },
      "outputs": [],
      "source": [
        "import pandas as pd\n",
        "import matplotlib.pyplot as plt\n",
        "# Importa o conjunto de dados\n",
        "df = pd.read_csv(\"https://raw.githubusercontent.com/cassiusf/datasets/refs/heads/main/desafios/Churn_Dataset.csv\")\n",
        "pd.reset_option('all')\n",
        "\n",
        "\n"
      ]
    },
    {
      "cell_type": "code",
      "execution_count": null,
      "metadata": {
        "colab": {
          "base_uri": "https://localhost:8080/",
          "height": 423
        },
        "id": "LtxQwIIFMuvv",
        "outputId": "ef783728-44c9-4c5e-dd63-a1893e3d47a8"
      },
      "outputs": [],
      "source": [
        "pd.set_option('display.max_columns', None)\n",
        "df"
      ]
    },
    {
      "cell_type": "code",
      "execution_count": null,
      "metadata": {
        "colab": {
          "base_uri": "https://localhost:8080/",
          "height": 523
        },
        "id": "T-Dovb34Nabf",
        "outputId": "c4920b77-da12-4b18-e3ec-be96576b25bb"
      },
      "outputs": [],
      "source": [
        "##verifiquei quantos nulos exitem\n",
        "\n",
        "df.isna().sum()\n",
        "\n"
      ]
    },
    {
      "cell_type": "code",
      "execution_count": null,
      "metadata": {
        "id": "raSTdoFwSGSn"
      },
      "outputs": [],
      "source": [
        "##decide excluir os nulos\n",
        "\n",
        "df= df.dropna()\n",
        "\n",
        "\n"
      ]
    },
    {
      "cell_type": "code",
      "execution_count": null,
      "metadata": {
        "colab": {
          "base_uri": "https://localhost:8080/",
          "height": 423
        },
        "id": "bFUJZzk-SZv3",
        "outputId": "59c84979-0c45-416c-e737-6b9209b753c4"
      },
      "outputs": [],
      "source": [
        "##removendo colunas irrelevantes \n",
        "\n",
        "from sklearn.preprocessing import OneHotEncoder, StandardScaler\n",
        "\n",
        "df.drop(columns=['CustomerId', 'Surname'], inplace=True)"
      ]
    },
    {
      "cell_type": "code",
      "execution_count": null,
      "metadata": {},
      "outputs": [],
      "source": [
        "##codificando variveis categoricas \n",
        "df = pd.get_dummies(df,columns=[\"Geography\",\"Gender\"], drop_first=True)\n"
      ]
    },
    {
      "cell_type": "code",
      "execution_count": null,
      "metadata": {},
      "outputs": [],
      "source": [
        "##normalização variaveis numericas \n",
        "scaler = StandardScaler()\n",
        "num_cols = ['CreditScore', 'Age', 'Balance', 'EstimatedSalary']\n",
        "df[num_cols] = scaler.fit_transform(df[num_cols])"
      ]
    },
    {
      "cell_type": "code",
      "execution_count": null,
      "metadata": {
        "colab": {
          "base_uri": "https://localhost:8080/",
          "height": 423
        },
        "id": "ufPQCEtHTcrg",
        "outputId": "ae62c317-3e8a-4005-e797-88a43e0b0ee8"
      },
      "outputs": [],
      "source": [
        "##criei uma tabela so de number para verificar  outlier\n",
        "df_numerico = df.select_dtypes(include=['int64', 'float64'])\n",
        "df_numerico = df_numerico.drop(columns=(['Exited',\"IsActiveMember\",\"HasCrCard\",\"RowNumber\",]))\n",
        "df_numerico\n",
        "\n"
      ]
    },
    {
      "cell_type": "code",
      "execution_count": null,
      "metadata": {
        "colab": {
          "base_uri": "https://localhost:8080/",
          "height": 1000
        },
        "id": "a7UG2IGpZ60g",
        "outputId": "ea04585c-2f4a-4f7c-d8d6-d4dc4972e3ba"
      },
      "outputs": [],
      "source": [
        "##fazendo boxplot para verificar os outlier de cada coluna\n",
        "for coluna in df_numerico.columns:\n",
        "    plt.figure(figsize=(5, 3))\n",
        "    plt.boxplot(df_numerico[coluna])\n",
        "    plt.title(f'Boxplot de {coluna}')\n",
        "    plt.ylabel('Valores')\n",
        "    plt.show()\n",
        "    "
      ]
    },
    {
      "cell_type": "code",
      "execution_count": null,
      "metadata": {
        "id": "QZLiVfA0hhtx"
      },
      "outputs": [],
      "source": [
        "##sepração de treino e teste \n",
        "\n",
        "from sklearn.model_selection import train_test_split\n",
        "##tirando variavel alvo\n",
        "y = df[\"Exited\"]\n",
        "X = df.drop(columns=[\"Exited\"])\n",
        "\n",
        "#separando teste e treino \n",
        "\n",
        "X_train , X_test, y_train, y_test =  train_test_split(X,y,test_size=0.3)\n"
      ]
    },
    {
      "cell_type": "code",
      "execution_count": 20,
      "metadata": {},
      "outputs": [],
      "source": [
        "from imblearn.over_sampling import SMOTE\n",
        "\n",
        "##aplicando smote apenas nos dados de treino para \n",
        "\n",
        "smote = SMOTE(sampling_strategy=0.5)\n",
        "\n",
        "X_train_resampled, y_train_resampled = smote.fit_resample(X_train,y_train)\n"
      ]
    },
    {
      "cell_type": "code",
      "execution_count": null,
      "metadata": {},
      "outputs": [],
      "source": []
    },
    {
      "cell_type": "code",
      "execution_count": null,
      "metadata": {},
      "outputs": [],
      "source": [
        "from sklearn.ensemble import RandomForestClassifier\n",
        "#rodando modelo random forest \n",
        "\n",
        "modelo = RandomForestClassifier()\n",
        "modelo.fit(X_train, y_train)\n",
        "\n",
        "#fazendo predicao \n",
        "\n",
        "y_pred = modelo.predict(X_test)"
      ]
    },
    {
      "cell_type": "code",
      "execution_count": null,
      "metadata": {},
      "outputs": [],
      "source": [
        "##verificando primeiras predicoes \n",
        "print(\"Primeiras previsões:\", y_pred[:10])\n",
        "print(\"Valores reais:\", y_test[:10].values)  \n"
      ]
    },
    {
      "cell_type": "code",
      "execution_count": null,
      "metadata": {},
      "outputs": [],
      "source": [
        "from sklearn.metrics import confusion_matrix\n",
        "import seaborn as sns\n",
        "import matplotlib.pyplot as plt\n",
        "\n",
        "# Criar a matriz de confusão\n",
        "cm = confusion_matrix(y_test, y_pred)\n",
        "\n",
        "# grafico para visualizar matriz de confusao \n",
        "plt.figure(figsize=(5,4))\n",
        "sns.heatmap(cm, annot=True, fmt=\"d\", cmap=\"Blues\")\n",
        "plt.xlabel(\"Predito\")\n",
        "plt.ylabel(\"Real\")\n",
        "plt.title(\"matriz de confusao\")\n",
        "plt.show()"
      ]
    }
  ],
  "metadata": {
    "colab": {
      "provenance": []
    },
    "kernelspec": {
      "display_name": "Python 3",
      "name": "python3"
    },
    "language_info": {
      "codemirror_mode": {
        "name": "ipython",
        "version": 3
      },
      "file_extension": ".py",
      "mimetype": "text/x-python",
      "name": "python",
      "nbconvert_exporter": "python",
      "pygments_lexer": "ipython3",
      "version": "3.10.12"
    }
  },
  "nbformat": 4,
  "nbformat_minor": 0
}
